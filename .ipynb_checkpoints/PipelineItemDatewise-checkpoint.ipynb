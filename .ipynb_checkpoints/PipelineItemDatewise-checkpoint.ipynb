{
 "cells": [
  {
   "cell_type": "code",
   "execution_count": 1,
   "id": "c3bf3999-3537-46c5-8ca6-025c1b1ef748",
   "metadata": {},
   "outputs": [],
   "source": [
    "import numpy as np\n",
    "import pandas as pd\n",
    "from sklearn.preprocessing import LabelEncoder\n",
    "from datetime import datetime\n",
    "import calendar\n",
    "from sklearn.preprocessing import StandardScaler\n",
    "from sklearn.model_selection import train_test_split"
   ]
  },
  {
   "cell_type": "code",
   "execution_count": 3,
   "id": "622c717c-46e6-4429-983c-1ce0cedc64f6",
   "metadata": {},
   "outputs": [],
   "source": [
    "import warnings\n",
    "warnings.filterwarnings('ignore')"
   ]
  },
  {
   "cell_type": "markdown",
   "id": "a2709172-8696-40b2-b580-99439ada6900",
   "metadata": {},
   "source": [
    "#### Training Pipeline"
   ]
  },
  {
   "cell_type": "code",
   "execution_count": 78,
   "id": "2714c0a3-9d82-4d7e-b588-e8b129ecb8e0",
   "metadata": {},
   "outputs": [],
   "source": [
    "dp = pd.read_csv('itemdatewise.csv')"
   ]
  },
  {
   "cell_type": "code",
   "execution_count": 80,
   "id": "6425d30b-9497-4dcb-9d4d-026162eee6d0",
   "metadata": {},
   "outputs": [],
   "source": [
    "dp = dp.rename(columns={'district':'area'})\n",
    "dp.area = dp.area.str.strip()\n",
    "dp.area = dp.area.apply(lambda x : '24 PARGANAS(S)' if x == '24PGS(S)' else x)\n",
    "dp.area = dp.area.apply(lambda x : '24 PARGANAS(N)' if x == 'NORTH 24 PGS' else x)\n",
    "dp = dp[(dp.area!='-') & (dp.area!='')]"
   ]
  },
  {
   "cell_type": "code",
   "execution_count": 82,
   "id": "eb222642-1180-48e5-8328-fdd0c8aa1c58",
   "metadata": {},
   "outputs": [],
   "source": [
    "le_area = LabelEncoder()\n",
    "dp.area = le_area.fit_transform(dp.area)\n",
    "area_mapping = dict(zip(le_area.classes_, sorted(dp.area.unique())))\n",
    "le_item = LabelEncoder()\n",
    "dp.itemcode = le_item.fit_transform(dp.itemcode)\n",
    "item_mapping = dict(zip(le_item.classes_, sorted(dp.itemcode.unique())))"
   ]
  },
  {
   "cell_type": "code",
   "execution_count": 88,
   "id": "bd619cfa-fdb0-46e9-9d4e-5b425ebe6372",
   "metadata": {},
   "outputs": [],
   "source": [
    "dp['ddate'] = pd.to_datetime(dp.ddate, format='%d-%m-%Y')\n",
    "dp['day'] = dp.ddate.dt.day\n",
    "dp['month'] = dp.ddate.dt.month\n",
    "dp['year'] = dp.ddate.dt.year\n",
    "dp['weekday'] = dp.ddate.dt.weekday\n",
    "dp['weekend'] = dp.weekday.apply(lambda x: 1 if x > 4 else 0)"
   ]
  },
  {
   "cell_type": "raw",
   "id": "abfd4757-ceb5-4296-a49f-aa20cca9a680",
   "metadata": {},
   "source": [
    "def isweekend(year,month,day):\n",
    "    d = datetime(year,month,day)\n",
    "    if d.weekday() > 4:\n",
    "        return 1\n",
    "    else:\n",
    "        return 0\n",
    "\n",
    "def day_of_week(year,month,day):\n",
    "    d = datetime(year,month,day)\n",
    "    return d.weekday()\n",
    "\n",
    "date_parts = dp.ddate.str.split('-',n=3,expand=True)\n",
    "dp['day'] = date_parts[0].astype('int')\n",
    "dp['month'] = date_parts[1].astype('int')\n",
    "dp['year'] = date_parts[2].astype('int')\n",
    "dp['weekend'] =dp.apply(lambda x: isweekend(x['year'],x['month'],x['day']), axis=1)\n",
    "dp['weekday'] = dp.apply(lambda x: day_of_week(x['year'],x['month'],x['day']), axis=1)"
   ]
  },
  {
   "cell_type": "code",
   "execution_count": 90,
   "id": "8952b423-9482-45d4-87b1-0a1639262679",
   "metadata": {},
   "outputs": [],
   "source": [
    "festival = pd.read_csv('FestivalDates.csv')\n",
    "festival['ddate'] = pd.to_datetime(festival.ddate, format='%d-%m-%Y %H:%M')\n",
    "festival['festival'] = 1\n",
    "dp = pd.merge(left=dp,right=festival,left_on='ddate',right_on='ddate',how='left')\n",
    "dp.festival = dp.festival.fillna(0)"
   ]
  },
  {
   "cell_type": "raw",
   "id": "3466b46d-4c76-41f3-9765-be07c9085504",
   "metadata": {},
   "source": [
    "festival = pd.read_csv('FestivalDates.csv')\n",
    "festival['ddate'] =  festival.ddate.str.slice(0,10)\n",
    "festival['festival'] = 1\n",
    "dp.ddate = dp.ddate.str.slice(0,10)\n",
    "dp = pd.merge(left=dp,right=festival,left_on='ddate',right_on='ddate',how='left')\n",
    "dp.festival = dp.festival.fillna(0)"
   ]
  },
  {
   "cell_type": "code",
   "execution_count": 92,
   "id": "085b1888-25cd-402c-8e7b-c299d102ce58",
   "metadata": {},
   "outputs": [],
   "source": [
    "dp['c1'] = np.sin(dp.month * (2 * np.pi / 12))\n",
    "dp['c2'] = np.cos(dp.month * (2 * np.pi / 12))\n",
    "#dp.loc[(dp.sales==1),'salegrp']=0\n",
    "#dp.loc[(dp.sales>=2) & (dp.sales<=5),'salegrp']=1\n",
    "#dp.loc[(dp.sales>5),'salegrp']=2\n",
    "dp.drop('ddate', axis=1, inplace=True)"
   ]
  },
  {
   "cell_type": "code",
   "execution_count": 94,
   "id": "1c73fab5-62e4-4c3f-aae1-bace6409f992",
   "metadata": {},
   "outputs": [],
   "source": [
    "dp = dp[dp.sales <= 100]"
   ]
  },
  {
   "cell_type": "code",
   "execution_count": 20,
   "id": "28b87ea3-9e04-4e12-88d9-1c7a626d7851",
   "metadata": {},
   "outputs": [],
   "source": [
    "from keras.models import Sequential\n",
    "from keras.layers import Dense, Dropout"
   ]
  },
  {
   "cell_type": "code",
   "execution_count": 96,
   "id": "21a1a2be-5ea3-4d5d-8d03-427bd39713c0",
   "metadata": {},
   "outputs": [],
   "source": [
    "features = dp.drop(['year','sales'],axis=1)\n",
    "Y = dp.sales\n",
    "ss = StandardScaler()\n",
    "X = ss.fit_transform(features)\n",
    "X = pd.DataFrame(X)\n",
    "X.columns = features.columns\n",
    "xtrain,xtest,ytrain,ytest = train_test_split(X,Y,test_size=0.20,random_state=42)"
   ]
  },
  {
   "cell_type": "code",
   "execution_count": 24,
   "id": "48137552-3183-4970-a8b9-baaddd5f58c7",
   "metadata": {},
   "outputs": [],
   "source": [
    "nn = Sequential()\n",
    "nn.add(Dense(8,input_shape=(xtrain.shape[1],),kernel_initializer='normal',activation='relu'))\n",
    "nn.add(Dense(16,kernel_initializer='normal',activation='relu'))\n",
    "nn.add(Dropout(0.2))\n",
    "nn.add(Dense(8,kernel_initializer='normal',activation='relu'))\n",
    "nn.add(Dense(1,kernel_initializer='normal'))              #,activation='linear'\n",
    "\n",
    "nn.compile(optimizer='adam',loss='mean_squared_error',metrics=['mae'])"
   ]
  },
  {
   "cell_type": "code",
   "execution_count": 26,
   "id": "1360a0d5-b6c1-4d2c-992b-68e6540084a5",
   "metadata": {},
   "outputs": [
    {
     "name": "stdout",
     "output_type": "stream",
     "text": [
      "Epoch 1/10\n",
      "\u001b[1m12826/12826\u001b[0m \u001b[32m━━━━━━━━━━━━━━━━━━━━\u001b[0m\u001b[37m\u001b[0m \u001b[1m20s\u001b[0m 1ms/step - loss: 3.7410 - mae: 0.8867\n",
      "Epoch 2/10\n",
      "\u001b[1m12826/12826\u001b[0m \u001b[32m━━━━━━━━━━━━━━━━━━━━\u001b[0m\u001b[37m\u001b[0m \u001b[1m18s\u001b[0m 1ms/step - loss: 3.6421 - mae: 0.8666\n",
      "Epoch 3/10\n",
      "\u001b[1m12826/12826\u001b[0m \u001b[32m━━━━━━━━━━━━━━━━━━━━\u001b[0m\u001b[37m\u001b[0m \u001b[1m20s\u001b[0m 2ms/step - loss: 3.7254 - mae: 0.8631\n",
      "Epoch 4/10\n",
      "\u001b[1m12826/12826\u001b[0m \u001b[32m━━━━━━━━━━━━━━━━━━━━\u001b[0m\u001b[37m\u001b[0m \u001b[1m18s\u001b[0m 1ms/step - loss: 3.2057 - mae: 0.8059\n",
      "Epoch 5/10\n",
      "\u001b[1m12826/12826\u001b[0m \u001b[32m━━━━━━━━━━━━━━━━━━━━\u001b[0m\u001b[37m\u001b[0m \u001b[1m18s\u001b[0m 1ms/step - loss: 3.3310 - mae: 0.8107\n",
      "Epoch 6/10\n",
      "\u001b[1m12826/12826\u001b[0m \u001b[32m━━━━━━━━━━━━━━━━━━━━\u001b[0m\u001b[37m\u001b[0m \u001b[1m18s\u001b[0m 1ms/step - loss: 3.3149 - mae: 0.8137\n",
      "Epoch 7/10\n",
      "\u001b[1m12826/12826\u001b[0m \u001b[32m━━━━━━━━━━━━━━━━━━━━\u001b[0m\u001b[37m\u001b[0m \u001b[1m18s\u001b[0m 1ms/step - loss: 3.2321 - mae: 0.8113\n",
      "Epoch 8/10\n",
      "\u001b[1m12826/12826\u001b[0m \u001b[32m━━━━━━━━━━━━━━━━━━━━\u001b[0m\u001b[37m\u001b[0m \u001b[1m17s\u001b[0m 1ms/step - loss: 3.4121 - mae: 0.8185\n",
      "Epoch 9/10\n",
      "\u001b[1m12826/12826\u001b[0m \u001b[32m━━━━━━━━━━━━━━━━━━━━\u001b[0m\u001b[37m\u001b[0m \u001b[1m18s\u001b[0m 1ms/step - loss: 3.2633 - mae: 0.8069\n",
      "Epoch 10/10\n",
      "\u001b[1m12826/12826\u001b[0m \u001b[32m━━━━━━━━━━━━━━━━━━━━\u001b[0m\u001b[37m\u001b[0m \u001b[1m17s\u001b[0m 1ms/step - loss: 3.1926 - mae: 0.8058\n",
      "\u001b[1m3207/3207\u001b[0m \u001b[32m━━━━━━━━━━━━━━━━━━━━\u001b[0m\u001b[37m\u001b[0m \u001b[1m3s\u001b[0m 767us/step\n"
     ]
    }
   ],
   "source": [
    "nn.fit(xtrain,ytrain,epochs=10,batch_size=32)\n",
    "nn_pred = nn.predict(xtest)"
   ]
  },
  {
   "cell_type": "code",
   "execution_count": 28,
   "id": "ecfdfd08-cf7c-45f5-ba65-f289a0f2a50a",
   "metadata": {},
   "outputs": [
    {
     "name": "stdout",
     "output_type": "stream",
     "text": [
      "Epoch 1/10\n",
      "\u001b[1m12826/12826\u001b[0m \u001b[32m━━━━━━━━━━━━━━━━━━━━\u001b[0m\u001b[37m\u001b[0m \u001b[1m19s\u001b[0m 1ms/step - loss: 3.3981 - mae: 0.8115\n",
      "Epoch 2/10\n",
      "\u001b[1m12826/12826\u001b[0m \u001b[32m━━━━━━━━━━━━━━━━━━━━\u001b[0m\u001b[37m\u001b[0m \u001b[1m19s\u001b[0m 1ms/step - loss: 3.2450 - mae: 0.8117\n",
      "Epoch 3/10\n",
      "\u001b[1m12826/12826\u001b[0m \u001b[32m━━━━━━━━━━━━━━━━━━━━\u001b[0m\u001b[37m\u001b[0m \u001b[1m19s\u001b[0m 1ms/step - loss: 3.3827 - mae: 0.8131\n",
      "Epoch 4/10\n",
      "\u001b[1m12826/12826\u001b[0m \u001b[32m━━━━━━━━━━━━━━━━━━━━\u001b[0m\u001b[37m\u001b[0m \u001b[1m19s\u001b[0m 1ms/step - loss: 3.1684 - mae: 0.7964\n",
      "Epoch 5/10\n",
      "\u001b[1m12826/12826\u001b[0m \u001b[32m━━━━━━━━━━━━━━━━━━━━\u001b[0m\u001b[37m\u001b[0m \u001b[1m18s\u001b[0m 1ms/step - loss: 3.2169 - mae: 0.7959\n",
      "Epoch 6/10\n",
      "\u001b[1m12826/12826\u001b[0m \u001b[32m━━━━━━━━━━━━━━━━━━━━\u001b[0m\u001b[37m\u001b[0m \u001b[1m18s\u001b[0m 1ms/step - loss: 3.3529 - mae: 0.8045\n",
      "Epoch 7/10\n",
      "\u001b[1m12826/12826\u001b[0m \u001b[32m━━━━━━━━━━━━━━━━━━━━\u001b[0m\u001b[37m\u001b[0m \u001b[1m22s\u001b[0m 2ms/step - loss: 3.2576 - mae: 0.7949\n",
      "Epoch 8/10\n",
      "\u001b[1m12826/12826\u001b[0m \u001b[32m━━━━━━━━━━━━━━━━━━━━\u001b[0m\u001b[37m\u001b[0m \u001b[1m18s\u001b[0m 1ms/step - loss: 3.3617 - mae: 0.7995\n",
      "Epoch 9/10\n",
      "\u001b[1m12826/12826\u001b[0m \u001b[32m━━━━━━━━━━━━━━━━━━━━\u001b[0m\u001b[37m\u001b[0m \u001b[1m18s\u001b[0m 1ms/step - loss: 3.2646 - mae: 0.7984\n",
      "Epoch 10/10\n",
      "\u001b[1m12826/12826\u001b[0m \u001b[32m━━━━━━━━━━━━━━━━━━━━\u001b[0m\u001b[37m\u001b[0m \u001b[1m19s\u001b[0m 1ms/step - loss: 3.2307 - mae: 0.7982\n",
      "\u001b[1m3207/3207\u001b[0m \u001b[32m━━━━━━━━━━━━━━━━━━━━\u001b[0m\u001b[37m\u001b[0m \u001b[1m2s\u001b[0m 767us/step\n"
     ]
    }
   ],
   "source": [
    "nn.fit(xtrain,ytrain,epochs=10,batch_size=32)\n",
    "nn_pred = nn.predict(xtest)"
   ]
  },
  {
   "cell_type": "code",
   "execution_count": 30,
   "id": "37e40f83-7eba-4dff-835c-0519da14808f",
   "metadata": {},
   "outputs": [
    {
     "data": {
      "text/plain": [
       "40.05658329937904"
      ]
     },
     "execution_count": 30,
     "metadata": {},
     "output_type": "execute_result"
    }
   ],
   "source": [
    "from sklearn.metrics import mean_absolute_percentage_error\n",
    "nn_pred = np.round(nn_pred)\n",
    "mape = mean_absolute_percentage_error(ytest,nn_pred)*100\n",
    "mape"
   ]
  },
  {
   "cell_type": "code",
   "execution_count": 32,
   "id": "7a555c3c-c947-4185-a767-93aa9e4b9d99",
   "metadata": {},
   "outputs": [
    {
     "data": {
      "text/html": [
       "<div>\n",
       "<style scoped>\n",
       "    .dataframe tbody tr th:only-of-type {\n",
       "        vertical-align: middle;\n",
       "    }\n",
       "\n",
       "    .dataframe tbody tr th {\n",
       "        vertical-align: top;\n",
       "    }\n",
       "\n",
       "    .dataframe thead th {\n",
       "        text-align: right;\n",
       "    }\n",
       "</style>\n",
       "<table border=\"1\" class=\"dataframe\">\n",
       "  <thead>\n",
       "    <tr style=\"text-align: right;\">\n",
       "      <th></th>\n",
       "      <th>Sales</th>\n",
       "      <th>Predicted</th>\n",
       "    </tr>\n",
       "  </thead>\n",
       "  <tbody>\n",
       "    <tr>\n",
       "      <th>0</th>\n",
       "      <td>1</td>\n",
       "      <td>1.0</td>\n",
       "    </tr>\n",
       "    <tr>\n",
       "      <th>1</th>\n",
       "      <td>1</td>\n",
       "      <td>2.0</td>\n",
       "    </tr>\n",
       "    <tr>\n",
       "      <th>2</th>\n",
       "      <td>1</td>\n",
       "      <td>3.0</td>\n",
       "    </tr>\n",
       "    <tr>\n",
       "      <th>3</th>\n",
       "      <td>1</td>\n",
       "      <td>1.0</td>\n",
       "    </tr>\n",
       "    <tr>\n",
       "      <th>4</th>\n",
       "      <td>1</td>\n",
       "      <td>1.0</td>\n",
       "    </tr>\n",
       "    <tr>\n",
       "      <th>...</th>\n",
       "      <td>...</td>\n",
       "      <td>...</td>\n",
       "    </tr>\n",
       "    <tr>\n",
       "      <th>102602</th>\n",
       "      <td>1</td>\n",
       "      <td>2.0</td>\n",
       "    </tr>\n",
       "    <tr>\n",
       "      <th>102603</th>\n",
       "      <td>1</td>\n",
       "      <td>2.0</td>\n",
       "    </tr>\n",
       "    <tr>\n",
       "      <th>102604</th>\n",
       "      <td>1</td>\n",
       "      <td>1.0</td>\n",
       "    </tr>\n",
       "    <tr>\n",
       "      <th>102605</th>\n",
       "      <td>2</td>\n",
       "      <td>1.0</td>\n",
       "    </tr>\n",
       "    <tr>\n",
       "      <th>102606</th>\n",
       "      <td>1</td>\n",
       "      <td>1.0</td>\n",
       "    </tr>\n",
       "  </tbody>\n",
       "</table>\n",
       "<p>102607 rows × 2 columns</p>\n",
       "</div>"
      ],
      "text/plain": [
       "        Sales  Predicted\n",
       "0           1        1.0\n",
       "1           1        2.0\n",
       "2           1        3.0\n",
       "3           1        1.0\n",
       "4           1        1.0\n",
       "...       ...        ...\n",
       "102602      1        2.0\n",
       "102603      1        2.0\n",
       "102604      1        1.0\n",
       "102605      2        1.0\n",
       "102606      1        1.0\n",
       "\n",
       "[102607 rows x 2 columns]"
      ]
     },
     "execution_count": 32,
     "metadata": {},
     "output_type": "execute_result"
    }
   ],
   "source": [
    "pred_compare = pd.DataFrame(ytest.reset_index(drop=True))\n",
    "predictions = pd.Series(nn_pred.tolist()).apply(lambda x: x[0])\n",
    "pred_compare = pd.concat([pred_compare,predictions],axis=1)\n",
    "pred_compare.columns = ['Sales','Predicted']\n",
    "pred_compare"
   ]
  },
  {
   "cell_type": "code",
   "execution_count": 34,
   "id": "5060a0fe-03e5-494b-acd5-35fc4a2e5559",
   "metadata": {},
   "outputs": [],
   "source": [
    "import pickle"
   ]
  },
  {
   "cell_type": "code",
   "execution_count": 98,
   "id": "f15c2623-5810-4d34-beaa-e40d9364c780",
   "metadata": {},
   "outputs": [],
   "source": [
    "pickle.dump(nn,open('./item_model.pkl','wb'))\n",
    "pickle.dump(area_mapping,open('./item_encoder_area.pkl','wb'))\n",
    "pickle.dump(item_mapping,open('./item_encoder_item.pkl','wb'))\n",
    "pickle.dump(ss,open('./item_scaler.pkl','wb'))"
   ]
  },
  {
   "cell_type": "code",
   "execution_count": 38,
   "id": "ef91ad16-16c2-4d9a-b670-02ca7df32b7e",
   "metadata": {},
   "outputs": [],
   "source": [
    "festival.to_pickle('./festivals.pkl')"
   ]
  },
  {
   "cell_type": "code",
   "execution_count": null,
   "id": "18421913-058d-457f-a51f-2501913b1952",
   "metadata": {},
   "outputs": [],
   "source": []
  },
  {
   "cell_type": "markdown",
   "id": "b3e71cee-bf41-4cca-bfcc-8990f106b96d",
   "metadata": {},
   "source": [
    "#### Prediction Pipeline"
   ]
  },
  {
   "cell_type": "code",
   "execution_count": 1,
   "id": "db442ed2-1c89-4383-b297-25859a092c73",
   "metadata": {},
   "outputs": [],
   "source": [
    "import numpy as np\n",
    "import pandas as pd\n",
    "from datetime import datetime\n",
    "import pickle\n",
    "import warnings\n",
    "warnings.filterwarnings('ignore')"
   ]
  },
  {
   "cell_type": "code",
   "execution_count": 3,
   "id": "e60fad46-8f7a-433d-b431-edfeb7531a14",
   "metadata": {},
   "outputs": [],
   "source": [
    "data = pd.read_csv('itemdatewise.csv',skiprows=300000,nrows=10000,header=None)\n",
    "data = data.iloc[0:,0:-1]\n",
    "data.columns = ['ddate','area','itemcode']"
   ]
  },
  {
   "cell_type": "code",
   "execution_count": 9,
   "id": "2635bb69-584e-4566-82ca-8936e9f9ba7f",
   "metadata": {},
   "outputs": [],
   "source": [
    "data.area = data.area.str.strip()\n",
    "data.area = data.area.apply(lambda x : '24 PARGANAS(S)' if x == '24PGS(S)' else x)\n",
    "data.area = data.area.apply(lambda x : '24 PARGANAS(N)' if x == 'NORTH 24 PGS' else x)\n",
    "data = data[(data.area!='-') & (data.area!='')]"
   ]
  },
  {
   "cell_type": "code",
   "execution_count": 11,
   "id": "eef080d6-2142-4715-8f0c-d1236f7a3fbc",
   "metadata": {},
   "outputs": [],
   "source": [
    "area_encoder = pickle.load(open('./item_encoder_area.pkl','rb'))\n",
    "item_encoder = pickle.load(open('./item_encoder_item.pkl','rb'))"
   ]
  },
  {
   "cell_type": "code",
   "execution_count": 13,
   "id": "eec3d83f-2e49-4dc7-813a-5cc987f69673",
   "metadata": {},
   "outputs": [],
   "source": [
    "data.area = data.area.apply(lambda x : area_encoder[x])\n",
    "data.itemcode = data.itemcode.apply(lambda x : item_encoder[x])"
   ]
  },
  {
   "cell_type": "code",
   "execution_count": 11,
   "id": "2f7bf039-bd90-42e5-ba6e-dd0550f0de4d",
   "metadata": {},
   "outputs": [],
   "source": [
    "data['ddate'] = pd.to_datetime(data.ddate, format='%d-%m-%Y')\n",
    "data['day'] = data.ddate.dt.day\n",
    "data['month'] = data.ddate.dt.month\n",
    "data['year'] = data.ddate.dt.year\n",
    "data['weekday'] = data.ddate.dt.weekday\n",
    "data['weekend'] = data.weekday.apply(lambda x: 1 if x > 4 else 0)"
   ]
  },
  {
   "cell_type": "code",
   "execution_count": 19,
   "id": "76594760-0f90-4ebe-bcfc-6da24b60c7aa",
   "metadata": {},
   "outputs": [],
   "source": [
    "festival = pd.read_pickle('./festivals.pkl')  #pd.read_csv('FestivalDates.csv')\n",
    "festival['ddate'] = pd.to_datetime(festival.ddate, format='%d-%m-%Y')\n",
    "festival['festival'] = 1\n",
    "data = pd.merge(left=data,right=festival,left_on='ddate',right_on='ddate',how='left')\n",
    "data.festival = data.festival.fillna(0)"
   ]
  },
  {
   "cell_type": "code",
   "execution_count": 23,
   "id": "0e2c768a-af56-4027-bcd9-3220a84f3c77",
   "metadata": {},
   "outputs": [],
   "source": [
    "data['c1'] = np.sin(data.month * (2 * np.pi / 12))\n",
    "data['c2'] = np.cos(data.month * (2 * np.pi / 12))\n",
    "data.drop('ddate', axis=1, inplace=True)\n",
    "features = data.drop(['year'],axis=1)"
   ]
  },
  {
   "cell_type": "code",
   "execution_count": 25,
   "id": "1cbd4c04-42f6-48c7-95e1-784ec13db112",
   "metadata": {},
   "outputs": [],
   "source": [
    "scaler = pickle.load(open('./item_scaler.pkl','rb'))\n",
    "X = scaler.transform(features)\n",
    "X = pd.DataFrame(X)\n",
    "X.columns = features.columns"
   ]
  },
  {
   "cell_type": "code",
   "execution_count": 27,
   "id": "8bcb1815-f62a-4b1d-916b-88045977c224",
   "metadata": {},
   "outputs": [
    {
     "name": "stdout",
     "output_type": "stream",
     "text": [
      "\u001b[1m304/304\u001b[0m \u001b[32m━━━━━━━━━━━━━━━━━━━━\u001b[0m\u001b[37m\u001b[0m \u001b[1m1s\u001b[0m 929us/step\n"
     ]
    }
   ],
   "source": [
    "model = pickle.load(open('./item_model.pkl','rb'))\n",
    "prediction = model.predict(X)"
   ]
  },
  {
   "cell_type": "code",
   "execution_count": 28,
   "id": "162f3d3a-4520-4999-a9aa-8db8a8773c80",
   "metadata": {},
   "outputs": [
    {
     "data": {
      "text/plain": [
       "array([[2.],\n",
       "       [1.],\n",
       "       [2.],\n",
       "       ...,\n",
       "       [1.],\n",
       "       [1.],\n",
       "       [1.]], dtype=float32)"
      ]
     },
     "execution_count": 28,
     "metadata": {},
     "output_type": "execute_result"
    }
   ],
   "source": [
    "np.round(prediction)"
   ]
  },
  {
   "cell_type": "code",
   "execution_count": null,
   "id": "e166e20b-e01b-490c-975b-6554c38474cd",
   "metadata": {},
   "outputs": [],
   "source": []
  }
 ],
 "metadata": {
  "kernelspec": {
   "display_name": "Python 3 (ipykernel)",
   "language": "python",
   "name": "python3"
  },
  "language_info": {
   "codemirror_mode": {
    "name": "ipython",
    "version": 3
   },
   "file_extension": ".py",
   "mimetype": "text/x-python",
   "name": "python",
   "nbconvert_exporter": "python",
   "pygments_lexer": "ipython3",
   "version": "3.12.7"
  }
 },
 "nbformat": 4,
 "nbformat_minor": 5
}
